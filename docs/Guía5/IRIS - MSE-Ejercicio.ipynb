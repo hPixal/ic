{
 "cells": [
  {
   "cell_type": "markdown",
   "id": "14bdfc16-bd96-4d61-bd25-dfe041304734",
   "metadata": {
    "tags": []
   },
   "source": [
    "# CARGA DE LIBRERIAS"
   ]
  },
  {
   "cell_type": "code",
   "execution_count": null,
   "id": "8e3f748c-3008-42c6-9052-f20045f074b0",
   "metadata": {
    "tags": []
   },
   "outputs": [],
   "source": [
    "import numpy as np\n",
    "import matplotlib.pyplot as plt\n",
    "import pandas as pd\n",
    "from copy import deepcopy\n",
    "\n",
    "from sklearn.model_selection import train_test_split\n",
    "\n",
    "import torch\n",
    "from torch import nn  # Modelos neuronales y funciones de Loss\n",
    "\n",
    "from torch import optim # (3er paso del algoritmo de retropropagación) Optimizadores ---> Gradiente descendiente, Adam, AdaDelta, etc\n",
    "from torch.utils.data import Dataset, DataLoader\n",
    "\n",
    "device = torch.device(\"cuda:0\" if torch.cuda.is_available() else \"cpu\")  # Elige el dispositivo. Utilizará GPU si está disponible"
   ]
  },
  {
   "cell_type": "markdown",
   "id": "85bc2078-a576-4340-8446-6f81c4c86e9f",
   "metadata": {},
   "source": [
    "# VISUALIZACION DE LOS DATOS"
   ]
  },
  {
   "cell_type": "code",
   "execution_count": null,
   "id": "00bbb4e2-aa82-425c-a684-b22423fce774",
   "metadata": {},
   "outputs": [],
   "source": [
    "data = pd.read_csv('irisbin.csv', header=None).to_numpy()\n",
    "\n",
    "data  # La clase está repartida en 3 columnas (codificación one-hot)\n",
    "\n",
    "new_data = data[:,:-2].copy()\n",
    "\n",
    "new_data[:,-1] = data[:,-3:].argmax(axis=1)  # Extraigo la posición del \"1\" para cada patrón y la guardo al final ---> Clase"
   ]
  },
  {
   "cell_type": "markdown",
   "id": "6c2bc0d2-836b-4cb6-8e87-cdf64e119fd6",
   "metadata": {},
   "source": [
    "### GENERO UNA PROYECCION CON PCA PARA VISUALIZAR LOS DATOS EN 2D"
   ]
  },
  {
   "cell_type": "code",
   "execution_count": null,
   "id": "36dc365c-a50e-4c59-ae74-77b887bb9291",
   "metadata": {},
   "outputs": [],
   "source": [
    "from sklearn.decomposition import PCA\n",
    "pca = PCA(n_components=2)\n",
    "X_pca = pca.fit(new_data[:,:-1],new_data[:,-1]).transform(new_data[:,:-1])"
   ]
  },
  {
   "cell_type": "code",
   "execution_count": null,
   "id": "d073353b-ba6c-44e3-8858-f166e423ff4b",
   "metadata": {},
   "outputs": [],
   "source": [
    "fig,ax = plt.subplots(1, 1, figsize=(8,8))\n",
    "ax.scatter(X_pca[:, 0],\n",
    "           X_pca[:, 1],\n",
    "           s=100,\n",
    "           c=[f'{[\"blue\",\"green\",\"red\"][int(i)]}' for i in new_data[:,-1]],\n",
    "           alpha=0.96,\n",
    "           lw=1)\n",
    "plt.grid(True)\n",
    "plt.xlabel('PC 1', fontsize=14)\n",
    "plt.ylabel('PC 2', fontsize=14)\n",
    "plt.grid(True);"
   ]
  },
  {
   "cell_type": "markdown",
   "id": "3eb785bb-e015-4baa-8c59-37fe1fe10847",
   "metadata": {},
   "source": [
    "# PARTICIONADO DE DATOS\n",
    "\n",
    "A partir del dataset `irisbin.csv`, genere las particiones de `train`, `validation` y `test` con las proporciones $65$/$15$/$20$ respectivamente. Almacene las particiones en archivos CSV independientes bajo los nombres: `data_trn.csv`, `data_val.csv` y `data_tst.csv`. Los archivos no deben contener cabeceras."
   ]
  },
  {
   "cell_type": "code",
   "execution_count": null,
   "id": "c07632ba-094d-44e9-9c34-36f01c5bde45",
   "metadata": {},
   "outputs": [],
   "source": []
  },
  {
   "cell_type": "markdown",
   "id": "9d0ba14b-e9d8-47c6-8ca2-716a5648aad4",
   "metadata": {
    "tags": []
   },
   "source": [
    "# CONSTRUCCION DEL DATASET"
   ]
  },
  {
   "cell_type": "code",
   "execution_count": null,
   "id": "1894b0b5-2692-4ea9-9a0b-08ffc091b977",
   "metadata": {
    "tags": []
   },
   "outputs": [],
   "source": [
    "class dataset(Dataset):\n",
    "    '''\n",
    "    Esta clase maneja la lectura de los datos y provee un mecanismo\n",
    "    para alimentar los modelos con los patrones.\n",
    "    '''\n",
    "    \n",
    "    #===================================================\n",
    "    def __init__(self, filename):\n",
    "        \n",
    "        pass\n",
    "    \n",
    "    #===================================================\n",
    "    def __len__(self):\n",
    "        '''\n",
    "        Devuelve el número de patrones en el dataset.\n",
    "        '''\n",
    "        pass\n",
    "    \n",
    "    \n",
    "    #===================================================\n",
    "    def __getitem__(self, idx):\n",
    "        '''\n",
    "        Devuelve el/los patrones indicados.\n",
    "        '''\n",
    "        pass"
   ]
  },
  {
   "cell_type": "markdown",
   "id": "8e258bf4-a9a2-4e37-b967-be80cfb97bd1",
   "metadata": {
    "tags": []
   },
   "source": [
    "# CONSTRUCCION DEL MODELO"
   ]
  },
  {
   "cell_type": "markdown",
   "id": "005168df-89e6-4127-ad13-c16b23b84826",
   "metadata": {
    "tags": []
   },
   "source": [
    "## PERCEPTRON MULTICAPA"
   ]
  },
  {
   "cell_type": "code",
   "execution_count": null,
   "id": "9a5fe2a2-ed88-44a0-aa31-76924a899133",
   "metadata": {
    "tags": []
   },
   "outputs": [],
   "source": [
    "class model(nn.Module):\n",
    "\n",
    "    #====================================\n",
    "    def __init__(self, n_features, n_inputs, n_outputs):\n",
    "        '''\n",
    "        Esta función inicializa/construye el perceptrón.\n",
    "        n_features: features de cada patrón (2 para OR y XOR)\n",
    "        n_outputs: cantidad de salidas esperadas.\n",
    "        '''\n",
    "        \n",
    "        super().__init__()\n",
    "        \n",
    "        pass\n",
    "\n",
    "    #====================================\n",
    "    def forward(self, x):\n",
    "        '''\n",
    "        Esta función realiza la pasada hacia adelante.\n",
    "        '''\n",
    "        \n",
    "        pass"
   ]
  },
  {
   "cell_type": "markdown",
   "id": "8485ea4c-eb90-4631-aaa7-f0644433b0c4",
   "metadata": {
    "tags": []
   },
   "source": [
    "# LOOPS"
   ]
  },
  {
   "cell_type": "markdown",
   "id": "0d3f8e61-1a63-4b42-a417-60205e3368a4",
   "metadata": {
    "tags": []
   },
   "source": [
    "## ENTRENAMIENTO"
   ]
  },
  {
   "cell_type": "code",
   "execution_count": null,
   "id": "46096546-0e33-4a7a-9aaf-23da7489b822",
   "metadata": {
    "executionInfo": {
     "elapsed": 561,
     "status": "ok",
     "timestamp": 1683415914307,
     "user": {
      "displayName": "Matias Gerard",
      "userId": "14742050363958170468"
     },
     "user_tz": 180
    },
    "id": "afa767ee-273e-4e79-b944-0e54b1e48830"
   },
   "outputs": [],
   "source": [
    "def train_step(model, data, loss_function, optimizer, device):\n",
    "    '''\n",
    "    Esta función se encarga de pasar todos los patrones\n",
    "    a través del modelo neuronal y realizar el ajuste de los pesos.\n",
    "    '''\n",
    "    \n",
    "    model.train()  # Calcula gradientes\n",
    "    \n",
    "    N_batches = len(data)  # Número de batches = N_patrones/N_patrones_x_batch\n",
    "    \n",
    "    error = 0\n",
    "    \n",
    "    #==============================================================\n",
    "    for idx,(X,y) in enumerate(data):\n",
    "\n",
    "        X = X.to(device)  # Se envían los datos a la GPU (si se dispone)\n",
    "        y = y.to(device)  # Se envían los datos a la GPU (si se dispone)\n",
    "\n",
    "        optimizer.zero_grad()  # Se limpia el caché del optimizador\n",
    "        \n",
    "        #-----------------------\n",
    "        # Pasada hacia adelante\n",
    "        # (Forward pass)\n",
    "        #-----------------------\n",
    "        y_pred = model(X)\n",
    "        \n",
    "        #---------------------------\n",
    "        # Cálculo del error (Loss)\n",
    "        #---------------------------\n",
    "        if (data.batch_size == 1):\n",
    "            loss = loss_function(y_pred.squeeze(), y.squeeze())\n",
    "        else:\n",
    "            loss = loss_function(y_pred.squeeze(), y)\n",
    "        \n",
    "        error += loss.item()\n",
    "        \n",
    "        #-----------------------\n",
    "        # Retropropagación\n",
    "        # (Backward pass)\n",
    "        #-----------------------\n",
    "        loss.backward()  # Calcula los gradientes en cada capa\n",
    "        optimizer.step()  # Corrige los pesos\n",
    "    #==============================================================\n",
    "    \n",
    "    error /= N_batches\n",
    "    \n",
    "    return error, model"
   ]
  },
  {
   "cell_type": "markdown",
   "id": "2b2d8b1c-b991-466c-94f1-196d38557a49",
   "metadata": {
    "id": "77c55181-cbbb-459d-bdf7-38458fcecd56"
   },
   "source": [
    "## VALIDACION / TEST"
   ]
  },
  {
   "cell_type": "code",
   "execution_count": null,
   "id": "23c50422-1d3f-459f-93eb-294cfc05f8c8",
   "metadata": {
    "executionInfo": {
     "elapsed": 7,
     "status": "ok",
     "timestamp": 1683415914308,
     "user": {
      "displayName": "Matias Gerard",
      "userId": "14742050363958170468"
     },
     "user_tz": 180
    },
    "id": "cb54b03c-0418-4a6f-8739-718dca662380"
   },
   "outputs": [],
   "source": [
    "def predict_step(model, data, loss_function, device):\n",
    "    '''\n",
    "    Esta función se encarga de pasar todos los patrones\n",
    "    hacia adelante a través del modelo para generar\n",
    "    las predicciones.\n",
    "    '''\n",
    "    \n",
    "    model.eval()  # Se desactiva el funcionamiento\n",
    "                  # de algunos elementos especiales de PyTorch\n",
    "    \n",
    "    N_batches = len(data)  # Número de batches = N_patrones/N_patrones_x_batch\n",
    "    \n",
    "    error = 0\n",
    "    \n",
    "    Y = torch.tensor([])\n",
    "    Yp = torch.tensor([])\n",
    "    \n",
    "    #==============================================================\n",
    "    with torch.no_grad():  # Se desactiva el cálculo de gradientes\n",
    "        \n",
    "        for idx,(X,y) in enumerate(data):\n",
    "            \n",
    "            #-------------------------------------------------------------\n",
    "            # En estas líneas acumulamos las salidas deseadas\n",
    "            # en un único vector, de manera de tener ordenados\n",
    "            # los pares \"salida deseada\" | \"salida predicha\" para\n",
    "            # calcular medidas de desempeño al finalizar esta etapa.\n",
    "            #-------------------------------------------------------------\n",
    "            if (Y.shape[0] == 0):\n",
    "                Y = torch.hstack( (Y, y) )\n",
    "            else:\n",
    "                Y = torch.vstack( (Y, y) )\n",
    "\n",
    "            \n",
    "            X = X.to(device)  # Se envían los datos a la GPU (si se dispone)\n",
    "            y = y.to(device)  # Se envían los datos a la GPU (si se dispone)\n",
    "\n",
    "            #-----------------------\n",
    "            # Pasada hacia adelante\n",
    "            # (Forward pass)\n",
    "            #-----------------------\n",
    "            y_pred = model(X)\n",
    "\n",
    "            #-------------------------------------------------------------\n",
    "            # En estas líneas acumulamos las salidas predichas\n",
    "            # del modelo en un único vector, de manera de tener\n",
    "            # ordenados los pares \"salida deseada\" | \"salida predicha\"\n",
    "            # para calcular medidas de desempeño al finalizar esta etapa.\n",
    "            # El método \"cpu()\" retorna los datos a la CPU en caso de estar en la GPU.\n",
    "            #-------------------------------------------------------------\n",
    "            if (Yp.shape[0] == 0):\n",
    "                Yp = torch.hstack( (Yp, y_pred.cpu()) )\n",
    "            else:\n",
    "                Yp = torch.vstack( (Yp, y_pred.cpu()) )\n",
    "\n",
    "            #---------------------------\n",
    "            # Cálculo del error (Loss)\n",
    "            #---------------------------\n",
    "            if (data.batch_size == 1):\n",
    "                loss = loss_function(y_pred.squeeze(), y.squeeze())  # El método \"squeeze()\" elimina todas las dimensiones con valor \"1\"\n",
    "                                                                     # Ej. el vector [[1,2,3]] tiene dimensiones (1,3). Luego de aplicar\n",
    "                                                                     # \"squeeze()\", el vector resultante [1,2,3] tiene dimensiones (3,)\n",
    "            else:\n",
    "                loss = loss_function(y_pred.squeeze(), y)\n",
    "\n",
    "            error += loss.item()\n",
    "    #==============================================================\n",
    "    \n",
    "    error /= N_batches\n",
    "    \n",
    "    #------------------\n",
    "    \n",
    "    return error, Y, Yp"
   ]
  },
  {
   "cell_type": "markdown",
   "id": "cc05240d-d9a7-447a-a825-6463128a5b5c",
   "metadata": {
    "tags": []
   },
   "source": [
    "# EXPERIMENTO"
   ]
  },
  {
   "cell_type": "code",
   "execution_count": null,
   "id": "9c8178b0-fdd6-4a49-a44b-ab0e0691e8a3",
   "metadata": {
    "tags": []
   },
   "outputs": [],
   "source": [
    "#=================================\n",
    "# Definimos los archivos de datos\n",
    "#=================================\n",
    "filename = 'irisbin.csv'\n",
    "\n",
    "#==========================================\n",
    "# Inicializamos parámetros del experimento\n",
    "#==========================================\n",
    "LEARNING_RATE = None  # Tasa de aprendizaje\n",
    "\n",
    "MOMENTUM = None  # Término de momento\n",
    "\n",
    "MAX_EPOCAS = None  # Defino el número máximo de épocas\n",
    "                  # de entrenamiento.\n",
    "\n",
    "PATIENCE = None   # Defino el máximo número de épocas\n",
    "                  # sin mejorar el error de validación\n",
    "                  # para detener el entrenamiento.\n",
    "\n",
    "BATCH_SIZE = None  # Número de patrones en cada batch\n",
    "                   # Se denomina 'batch' a un conjunto de patrones\n",
    "                   # que se procesan juntos durante una pasada a \n",
    "                   # través de la red neuronal  durante el aprendizaje.\n",
    "                   # Ej. si el batch incluye 10 patrones, los mismos\n",
    "                   # son usados para realizar los pasos hacia adelante,\n",
    "                   # la retropropagación y el cálculo de la actualización\n",
    "                   # de los pesos de acuerdo al error cometido con cada patrón.\n",
    "                   # Sin embargo, al usar un batch se combinan las actualizaciones\n",
    "                   # de pesos debidas a cada patrón y se realiza una única\n",
    "                   # actualización \"promedio\".\n",
    "\n",
    "#-------------------------------------------------\n",
    "\n",
    "acc = 0.  # Inicializo el accuracy inicial\n",
    "epoca = 0  # Inicializo contador de épocas\n",
    "\n",
    "MIN_ERROR = 1E6   # Inicializo la variable para\n",
    "                  # registrar el mínimo error cometido.\n",
    "\n",
    "\n",
    "#===========================================================\n",
    "# Construimos los datasets para entrenamiento y validación\n",
    "#===========================================================\n",
    "filename_train = 'data_trn.csv'\n",
    "filename_validation = 'data_val.csv'\n",
    "filename_test = 'data_tst.csv'\n",
    "\n",
    "trn = dataset(filename_train)\n",
    "val = dataset(filename_validation)\n",
    "tst = dataset(filename_test)\n",
    "\n",
    "\n",
    "#=============================================================\n",
    "# Construimos los dataloaders para entrenamiento y validación\n",
    "#=============================================================\n",
    "train_data = DataLoader(trn, batch_size=BATCH_SIZE, shuffle=True)\n",
    "validation_data = DataLoader(val, batch_size=BATCH_SIZE, shuffle=False)\n",
    "\n",
    "\n",
    "#=============================================\n",
    "# Inicializamos el modelo\n",
    "#=============================================\n",
    "modelo = model(...)\n",
    "modelo.to(device)\n",
    "\n",
    "\n",
    "#=============================================\n",
    "# Definimos la función de LOSS a utilizar\n",
    "#=============================================\n",
    "loss_function = nn.MSELoss(reduction='mean').to(device)\n",
    "\n",
    "#=============================================\n",
    "# Definimos el optimizador a utilizar\n",
    "# >>> 3er paso del bacpropagation\n",
    "#=============================================\n",
    "optimizer = optim.SGD(modelo.parameters(), lr=LEARNING_RATE, momentum=MOMENTUM)"
   ]
  },
  {
   "cell_type": "markdown",
   "id": "4799c811-9ee7-4d0a-8ae9-f376129f4930",
   "metadata": {
    "tags": []
   },
   "source": [
    "## ENTRENAMIENTO DEL MODELO"
   ]
  },
  {
   "cell_type": "code",
   "execution_count": null,
   "id": "21313ae0-3004-4a9c-8e43-0964a335d975",
   "metadata": {
    "tags": []
   },
   "outputs": [],
   "source": [
    "error_trn = []  # Inicializo estructura para almacenar\n",
    "                # los errores en el tiempo\n",
    "\n",
    "error_val = []\n",
    "\n",
    "accuracy = []  # Inicializo estructura para almacenar\n",
    "               # el accuracy en el tiempo\n",
    "\n",
    "STOP = False\n",
    "counter = 0\n",
    "\n",
    "best_model = None\n",
    "best_model_weights = None\n",
    "\n",
    "#===============================================================\n",
    "while (epoca < MAX_EPOCAS) and (not STOP):\n",
    "\n",
    "    epoca += 1\n",
    "    \n",
    "    #----------------------\n",
    "    # ENTRENAMIENTO\n",
    "    #----------------------\n",
    "    _,modelo = train_step(modelo, train_data, loss_function, optimizer, device)\n",
    "    \n",
    "    #----------------------\n",
    "    # VALIDACION\n",
    "    #----------------------\n",
    "    e_trn,Y_trn,Yp_trn = predict_step(modelo, train_data, loss_function, device)\n",
    "    e_val,Y_val,Yp_val = predict_step(modelo, validation_data, loss_function, device)\n",
    "\n",
    "    real_class = torch.argmax(Y_val,dim=1)  # Decodifico la clase ===> ej. [-1, 1, -1] --> 1\n",
    "    predicted_class = torch.argmax(Yp_val,dim=1)  # Decodifico la clase ===> ej. [-1, -1, 1] --> 2\n",
    "    acc = torch.sum(predicted_class == real_class)/ len(Y_val)\n",
    "    \n",
    "    #----------------------\n",
    "    # ALMACENO MEDIDAS\n",
    "    #----------------------\n",
    "    error_trn.append(e_trn)\n",
    "    error_val.append(e_val)\n",
    "    accuracy.append(acc)\n",
    "    \n",
    "    #-----------------------------------------------\n",
    "    # CRITERIO DE CORTE Y ALMACENAMIENTO DEL MODELO\n",
    "    #-----------------------------------------------\n",
    "    if (e_val < MIN_ERROR):\n",
    "        MIN_ERROR = e_val\n",
    "        counter = 0\n",
    "        \n",
    "        #·······················\n",
    "        # Almaceno el modelo\n",
    "        #·······················\n",
    "        best_model = deepcopy(modelo)  # Genero una copia independiente\n",
    "        best_model_weights = best_model.state_dict()\n",
    "        \n",
    "    else:\n",
    "        counter += 1\n",
    "        if counter > PATIENCE:\n",
    "            STOP = True\n",
    "    \n",
    "    #--------------------------------------------\n",
    "    # MUESTRO REPORTE POR PANTALLA (POR EPOCA)\n",
    "    #--------------------------------------------\n",
    "    if (epoca % 100) == 0:\n",
    "        print(f'Epoca: {epoca} -- Error [trn]: {e_trn:.4}\\t--\\tError [val]: {e_val:.4}\\t--\\tTasa acierto [val]: {acc:.4}\\n')\n",
    "#===============================================================\n",
    "\n",
    "#--------------------------------------------\n",
    "# MUESTRO REPORTE POR PANTALLA (FINAL)\n",
    "#--------------------------------------------\n",
    "print('='*120)\n",
    "print(f'FINAL -- Epoca: {epoca} -- Error [trn]: {e_trn:.4}\\t-- Error [val]: {e_val:.4}\\t--\\tTasa acierto [val]: {acc:.4}')\n",
    "print('='*120)\n",
    "\n",
    "#-----------------------------\n",
    "# GUARDO MEJOR MODELO A DISCO\n",
    "#-----------------------------\n",
    "torch.save(best_model,\n",
    "           'best_model.pt',\n",
    "           _use_new_zipfile_serialization=True)\n",
    "        \n",
    "#----------------------------------------------\n",
    "# GUARDAMOS LOS PESOS DEL MEJOR MODELO A DISCO\n",
    "#----------------------------------------------\n",
    "torch.save(best_model.state_dict(),\n",
    "           'best_model_state_dict.pt',\n",
    "           _use_new_zipfile_serialization=True)"
   ]
  },
  {
   "cell_type": "markdown",
   "id": "ec22aa64-3830-4e57-a508-60b1d3d463e8",
   "metadata": {
    "tags": []
   },
   "source": [
    "## GRAFICAMOS LAS SALIDAS"
   ]
  },
  {
   "cell_type": "code",
   "execution_count": null,
   "id": "5f97e0b4-52a6-4e93-83c9-3bfefe583654",
   "metadata": {
    "tags": []
   },
   "outputs": [],
   "source": [
    "fig, ax = plt.subplots(1, 2, figsize=(30,6))\n",
    "\n",
    "epocas = np.arange(epoca)\n",
    "\n",
    "# ERROR\n",
    "ax[0].plot(epocas, error_trn, '-r', lw=2, label='Train')\n",
    "ax[0].plot(epocas, error_val, '-g', lw=2, label='Val')\n",
    "ax[0].grid(True)\n",
    "ax[0].legend()\n",
    "ax[0].set_xlim(0,MAX_EPOCAS)\n",
    "ax[0].set_xlabel('Epocas', fontsize=12)\n",
    "ax[0].set_ylabel('CE', fontsize=12)\n",
    "\n",
    "# ACC\n",
    "ax[1].plot(epocas, accuracy, '-b', lw=2)\n",
    "ax[1].grid(True)\n",
    "ax[1].set_xlim(0,MAX_EPOCAS)\n",
    "ax[1].set_xlabel('Epocas', fontsize=12)\n",
    "ax[1].set_ylabel('Acc [val]', fontsize=12);"
   ]
  },
  {
   "cell_type": "markdown",
   "id": "0d25b98b-59e1-4a45-9318-36fd7e622baf",
   "metadata": {},
   "source": [
    "---"
   ]
  },
  {
   "cell_type": "markdown",
   "id": "6527b157-f89d-4fd7-a7d1-e3a8fbc2d16f",
   "metadata": {
    "tags": []
   },
   "source": [
    "## LECTURA DE DATOS DE EVALUACION"
   ]
  },
  {
   "cell_type": "code",
   "execution_count": null,
   "id": "90041501-1f0b-4fc5-80b2-d9dfc6e8cad2",
   "metadata": {
    "tags": []
   },
   "outputs": [],
   "source": [
    "#=====================================\n",
    "# LEVANTAMOS DE DISCO EL MEJOR MODELO\n",
    "#=====================================\n",
    "\n",
    "del modelo  # Eliminamos de memoria\n",
    "            # para asegurarnos de usar\n",
    "            # el modelo guardado en disco\n",
    "\n",
    "#--------------------------------------\n",
    "# Modelo completo (archivo binario)\n",
    "#--------------------------------------\n",
    "modelo = torch.load('best_model.pt')\n",
    "\n",
    "#-----------------------\n",
    "# A partir de los pesos\n",
    "#-----------------------\n",
    "#best_model = torch.load('best_model_state_dict.pt')\n",
    "#modelo = MODELO(n_features=2, n_inputs=2, n_outputs=1)\n",
    "#modelo.load_state_dict(best_model)\n",
    "#modelo.to(device)"
   ]
  },
  {
   "cell_type": "code",
   "execution_count": null,
   "id": "b182dec5-bebf-46b6-9d68-4c6487d31e12",
   "metadata": {
    "tags": []
   },
   "outputs": [],
   "source": [
    "#=====================================\n",
    "# CONSTRUIMOS EL DATASET PARA TEST\n",
    "#=====================================\n",
    "test_data = DataLoader(tst, batch_size=BATCH_SIZE, shuffle=False)\n",
    "\n",
    "#=====================================\n",
    "# EVALUAMOS EL MODELO ENTRENADO\n",
    "#=====================================\n",
    "error,Y,Yp = predict_step(modelo, test_data, loss_function, device)\n",
    "\n",
    "acc = torch.sum(torch.argmax(Yp,dim=1) == torch.argmax(Y,dim=1))/ len(Y)\n",
    "\n",
    "print(f'\\nTasa acierto [test]: {acc:.4}\\n')"
   ]
  },
  {
   "cell_type": "markdown",
   "id": "f515442f-8b82-4f8b-8104-42d2e814b77c",
   "metadata": {
    "tags": []
   },
   "source": [
    "## GRAFICAMOS LA CLASIFICACION"
   ]
  },
  {
   "cell_type": "code",
   "execution_count": null,
   "id": "4bf57847-b232-4137-85d4-a44710f7e748",
   "metadata": {
    "tags": []
   },
   "outputs": [],
   "source": [
    "from sklearn.metrics import accuracy_score\n",
    "\n",
    "fig, ax = plt.subplots(1, 3, figsize=(30,10))\n",
    "\n",
    "DATA = [trn, val, tst]\n",
    "partition = ['Train', 'Validation', 'Test']\n",
    "\n",
    "for idx,dataset in enumerate(DATA):\n",
    "\n",
    "    data = DataLoader(dataset, batch_size=1, shuffle=False)\n",
    "    \n",
    "    e,y,yp = predict_step(modelo, data, loss_function, device)\n",
    "\n",
    "    Y = torch.argmax(y, dim=1)  # Decodifico la clase ===> ej. [-1, -1, 1] --> 2\n",
    "    Yp = torch.argmax(yp, dim=1)  # Decodifico la clase ===> ej. [1, -1, -1] --> 0\n",
    "    \n",
    "    C = []\n",
    "    for i in range(len(Y)):\n",
    "        if (Y[i] == Yp[i]):\n",
    "            if (Y[i] == 0):\n",
    "                C.append('blue')\n",
    "            elif (Y[i] == 1):\n",
    "                C.append('green')\n",
    "            if (Y[i] == 2):\n",
    "                C.append('red')\n",
    "        else:  # (Y[i] != Yp[i])\n",
    "            if (Y[i] == 0):\n",
    "                C.append('magenta')\n",
    "            elif (Y[i] == 1):\n",
    "                C.append('lightgreen')\n",
    "            else:\n",
    "                C.append('cyan')\n",
    "\n",
    "    # EXTRAIGO LOS PATRONES\n",
    "    X = np.array([x[0] for x in data.dataset])\n",
    "\n",
    "    # PROYECTO LOS PATRONES R4 --> R2\n",
    "    X_pca = pca.transform(X)\n",
    "\n",
    "    acc = accuracy_score(Y,Yp)\n",
    "    \n",
    "    # CONSTRUYO LOS GRAFICOS\n",
    "    ax[idx].scatter(X_pca[:,0], X_pca[:,1], 100, C)\n",
    "    ax[idx].set_xlim(-3.5,4.5)\n",
    "    ax[idx].set_ylim(-1.5,1.5)\n",
    "    ax[idx].set_title(f'{partition[idx]} - Acc: {acc:.3}', fontsize=16)\n",
    "    ax[idx].set_xlabel('PC 1', fontsize=14)\n",
    "    ax[idx].set_ylabel('PC 2', fontsize=14)\n",
    "    ax[idx].grid(True)"
   ]
  }
 ],
 "metadata": {
  "kernelspec": {
   "display_name": "Python 3 (ipykernel)",
   "language": "python",
   "name": "python3"
  },
  "language_info": {
   "codemirror_mode": {
    "name": "ipython",
    "version": 3
   },
   "file_extension": ".py",
   "mimetype": "text/x-python",
   "name": "python",
   "nbconvert_exporter": "python",
   "pygments_lexer": "ipython3",
   "version": "3.10.8"
  }
 },
 "nbformat": 4,
 "nbformat_minor": 5
}
